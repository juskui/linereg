{
 "cells": [
  {
   "cell_type": "code",
   "execution_count": 1,
   "metadata": {},
   "outputs": [],
   "source": [
    "import pandas as pd\n",
    "import numpy as np\n",
    "from sklearn import linear_model #scikit-learn\n",
    "from sklearn.metrics import root_mean_squared_error, r2_score\n",
    "from sklearn.preprocessing import StandardScaler\n",
    "import matplotlib.pyplot as plt\n",
    "import seaborn as sns\n"
   ]
  },
  {
   "cell_type": "code",
   "execution_count": 2,
   "metadata": {},
   "outputs": [
    {
     "data": {
      "text/html": [
       "<div>\n",
       "<style scoped>\n",
       "    .dataframe tbody tr th:only-of-type {\n",
       "        vertical-align: middle;\n",
       "    }\n",
       "\n",
       "    .dataframe tbody tr th {\n",
       "        vertical-align: top;\n",
       "    }\n",
       "\n",
       "    .dataframe thead th {\n",
       "        text-align: right;\n",
       "    }\n",
       "</style>\n",
       "<table border=\"1\" class=\"dataframe\">\n",
       "  <thead>\n",
       "    <tr style=\"text-align: right;\">\n",
       "      <th></th>\n",
       "      <th>STACKLOSS</th>\n",
       "      <th>AIRFLOW</th>\n",
       "      <th>WATERTEMP</th>\n",
       "      <th>ACIDCONC</th>\n",
       "    </tr>\n",
       "  </thead>\n",
       "  <tbody>\n",
       "    <tr>\n",
       "      <th>0</th>\n",
       "      <td>42</td>\n",
       "      <td>80</td>\n",
       "      <td>27</td>\n",
       "      <td>89</td>\n",
       "    </tr>\n",
       "    <tr>\n",
       "      <th>1</th>\n",
       "      <td>37</td>\n",
       "      <td>80</td>\n",
       "      <td>27</td>\n",
       "      <td>88</td>\n",
       "    </tr>\n",
       "    <tr>\n",
       "      <th>2</th>\n",
       "      <td>37</td>\n",
       "      <td>75</td>\n",
       "      <td>25</td>\n",
       "      <td>90</td>\n",
       "    </tr>\n",
       "    <tr>\n",
       "      <th>3</th>\n",
       "      <td>28</td>\n",
       "      <td>62</td>\n",
       "      <td>24</td>\n",
       "      <td>87</td>\n",
       "    </tr>\n",
       "    <tr>\n",
       "      <th>4</th>\n",
       "      <td>18</td>\n",
       "      <td>62</td>\n",
       "      <td>22</td>\n",
       "      <td>87</td>\n",
       "    </tr>\n",
       "  </tbody>\n",
       "</table>\n",
       "</div>"
      ],
      "text/plain": [
       "   STACKLOSS  AIRFLOW  WATERTEMP  ACIDCONC\n",
       "0         42       80         27        89\n",
       "1         37       80         27        88\n",
       "2         37       75         25        90\n",
       "3         28       62         24        87\n",
       "4         18       62         22        87"
      ]
     },
     "execution_count": 2,
     "metadata": {},
     "output_type": "execute_result"
    }
   ],
   "source": [
    "url = 'https://raw.githubusercontent.com/statsmodels/statsmodels/main/statsmodels/datasets/stackloss/stackloss.csv'\n",
    "df = pd.read_csv(url)\n",
    "df.head()"
   ]
  },
  {
   "cell_type": "code",
   "execution_count": 3,
   "metadata": {},
   "outputs": [
    {
     "name": "stdout",
     "output_type": "stream",
     "text": [
      "<class 'pandas.core.frame.DataFrame'>\n",
      "RangeIndex: 21 entries, 0 to 20\n",
      "Data columns (total 4 columns):\n",
      " #   Column     Non-Null Count  Dtype\n",
      "---  ------     --------------  -----\n",
      " 0   STACKLOSS  21 non-null     int64\n",
      " 1   AIRFLOW    21 non-null     int64\n",
      " 2   WATERTEMP  21 non-null     int64\n",
      " 3   ACIDCONC   21 non-null     int64\n",
      "dtypes: int64(4)\n",
      "memory usage: 804.0 bytes\n"
     ]
    }
   ],
   "source": [
    "df.info()"
   ]
  },
  {
   "cell_type": "code",
   "execution_count": 4,
   "metadata": {},
   "outputs": [
    {
     "data": {
      "text/html": [
       "<div>\n",
       "<style scoped>\n",
       "    .dataframe tbody tr th:only-of-type {\n",
       "        vertical-align: middle;\n",
       "    }\n",
       "\n",
       "    .dataframe tbody tr th {\n",
       "        vertical-align: top;\n",
       "    }\n",
       "\n",
       "    .dataframe thead th {\n",
       "        text-align: right;\n",
       "    }\n",
       "</style>\n",
       "<table border=\"1\" class=\"dataframe\">\n",
       "  <thead>\n",
       "    <tr style=\"text-align: right;\">\n",
       "      <th></th>\n",
       "      <th>STACKLOSS</th>\n",
       "      <th>AIRFLOW</th>\n",
       "      <th>WATERTEMP</th>\n",
       "      <th>ACIDCONC</th>\n",
       "    </tr>\n",
       "  </thead>\n",
       "  <tbody>\n",
       "    <tr>\n",
       "      <th>count</th>\n",
       "      <td>21.000000</td>\n",
       "      <td>21.000000</td>\n",
       "      <td>21.000000</td>\n",
       "      <td>21.000000</td>\n",
       "    </tr>\n",
       "    <tr>\n",
       "      <th>mean</th>\n",
       "      <td>17.523810</td>\n",
       "      <td>60.428571</td>\n",
       "      <td>21.095238</td>\n",
       "      <td>86.285714</td>\n",
       "    </tr>\n",
       "    <tr>\n",
       "      <th>std</th>\n",
       "      <td>10.171623</td>\n",
       "      <td>9.168268</td>\n",
       "      <td>3.160771</td>\n",
       "      <td>5.358571</td>\n",
       "    </tr>\n",
       "    <tr>\n",
       "      <th>min</th>\n",
       "      <td>7.000000</td>\n",
       "      <td>50.000000</td>\n",
       "      <td>17.000000</td>\n",
       "      <td>72.000000</td>\n",
       "    </tr>\n",
       "    <tr>\n",
       "      <th>25%</th>\n",
       "      <td>11.000000</td>\n",
       "      <td>56.000000</td>\n",
       "      <td>18.000000</td>\n",
       "      <td>82.000000</td>\n",
       "    </tr>\n",
       "    <tr>\n",
       "      <th>50%</th>\n",
       "      <td>15.000000</td>\n",
       "      <td>58.000000</td>\n",
       "      <td>20.000000</td>\n",
       "      <td>87.000000</td>\n",
       "    </tr>\n",
       "    <tr>\n",
       "      <th>75%</th>\n",
       "      <td>19.000000</td>\n",
       "      <td>62.000000</td>\n",
       "      <td>24.000000</td>\n",
       "      <td>89.000000</td>\n",
       "    </tr>\n",
       "    <tr>\n",
       "      <th>max</th>\n",
       "      <td>42.000000</td>\n",
       "      <td>80.000000</td>\n",
       "      <td>27.000000</td>\n",
       "      <td>93.000000</td>\n",
       "    </tr>\n",
       "  </tbody>\n",
       "</table>\n",
       "</div>"
      ],
      "text/plain": [
       "       STACKLOSS    AIRFLOW  WATERTEMP   ACIDCONC\n",
       "count  21.000000  21.000000  21.000000  21.000000\n",
       "mean   17.523810  60.428571  21.095238  86.285714\n",
       "std    10.171623   9.168268   3.160771   5.358571\n",
       "min     7.000000  50.000000  17.000000  72.000000\n",
       "25%    11.000000  56.000000  18.000000  82.000000\n",
       "50%    15.000000  58.000000  20.000000  87.000000\n",
       "75%    19.000000  62.000000  24.000000  89.000000\n",
       "max    42.000000  80.000000  27.000000  93.000000"
      ]
     },
     "execution_count": 4,
     "metadata": {},
     "output_type": "execute_result"
    }
   ],
   "source": [
    "df.describe()"
   ]
  },
  {
   "cell_type": "code",
   "execution_count": 5,
   "metadata": {},
   "outputs": [
    {
     "data": {
      "text/html": [
       "<div>\n",
       "<style scoped>\n",
       "    .dataframe tbody tr th:only-of-type {\n",
       "        vertical-align: middle;\n",
       "    }\n",
       "\n",
       "    .dataframe tbody tr th {\n",
       "        vertical-align: top;\n",
       "    }\n",
       "\n",
       "    .dataframe thead th {\n",
       "        text-align: right;\n",
       "    }\n",
       "</style>\n",
       "<table border=\"1\" class=\"dataframe\">\n",
       "  <thead>\n",
       "    <tr style=\"text-align: right;\">\n",
       "      <th></th>\n",
       "      <th>STACKLOSS</th>\n",
       "      <th>AIRFLOW</th>\n",
       "      <th>WATERTEMP</th>\n",
       "      <th>ACIDCONC</th>\n",
       "    </tr>\n",
       "  </thead>\n",
       "  <tbody>\n",
       "    <tr>\n",
       "      <th>0</th>\n",
       "      <td>42.0</td>\n",
       "      <td>80.0</td>\n",
       "      <td>27.0</td>\n",
       "      <td>89.0</td>\n",
       "    </tr>\n",
       "    <tr>\n",
       "      <th>1</th>\n",
       "      <td>37.0</td>\n",
       "      <td>80.0</td>\n",
       "      <td>27.0</td>\n",
       "      <td>88.0</td>\n",
       "    </tr>\n",
       "    <tr>\n",
       "      <th>2</th>\n",
       "      <td>37.0</td>\n",
       "      <td>75.0</td>\n",
       "      <td>25.0</td>\n",
       "      <td>90.0</td>\n",
       "    </tr>\n",
       "    <tr>\n",
       "      <th>3</th>\n",
       "      <td>28.0</td>\n",
       "      <td>62.0</td>\n",
       "      <td>24.0</td>\n",
       "      <td>87.0</td>\n",
       "    </tr>\n",
       "    <tr>\n",
       "      <th>4</th>\n",
       "      <td>18.0</td>\n",
       "      <td>62.0</td>\n",
       "      <td>22.0</td>\n",
       "      <td>87.0</td>\n",
       "    </tr>\n",
       "    <tr>\n",
       "      <th>5</th>\n",
       "      <td>18.0</td>\n",
       "      <td>62.0</td>\n",
       "      <td>23.0</td>\n",
       "      <td>87.0</td>\n",
       "    </tr>\n",
       "    <tr>\n",
       "      <th>6</th>\n",
       "      <td>19.0</td>\n",
       "      <td>62.0</td>\n",
       "      <td>24.0</td>\n",
       "      <td>93.0</td>\n",
       "    </tr>\n",
       "    <tr>\n",
       "      <th>7</th>\n",
       "      <td>20.0</td>\n",
       "      <td>62.0</td>\n",
       "      <td>24.0</td>\n",
       "      <td>93.0</td>\n",
       "    </tr>\n",
       "    <tr>\n",
       "      <th>8</th>\n",
       "      <td>15.0</td>\n",
       "      <td>58.0</td>\n",
       "      <td>23.0</td>\n",
       "      <td>87.0</td>\n",
       "    </tr>\n",
       "    <tr>\n",
       "      <th>9</th>\n",
       "      <td>14.0</td>\n",
       "      <td>58.0</td>\n",
       "      <td>18.0</td>\n",
       "      <td>80.0</td>\n",
       "    </tr>\n",
       "    <tr>\n",
       "      <th>10</th>\n",
       "      <td>14.0</td>\n",
       "      <td>58.0</td>\n",
       "      <td>18.0</td>\n",
       "      <td>89.0</td>\n",
       "    </tr>\n",
       "    <tr>\n",
       "      <th>11</th>\n",
       "      <td>13.0</td>\n",
       "      <td>58.0</td>\n",
       "      <td>17.0</td>\n",
       "      <td>88.0</td>\n",
       "    </tr>\n",
       "    <tr>\n",
       "      <th>12</th>\n",
       "      <td>11.0</td>\n",
       "      <td>58.0</td>\n",
       "      <td>18.0</td>\n",
       "      <td>82.0</td>\n",
       "    </tr>\n",
       "    <tr>\n",
       "      <th>13</th>\n",
       "      <td>12.0</td>\n",
       "      <td>58.0</td>\n",
       "      <td>19.0</td>\n",
       "      <td>93.0</td>\n",
       "    </tr>\n",
       "    <tr>\n",
       "      <th>14</th>\n",
       "      <td>8.0</td>\n",
       "      <td>50.0</td>\n",
       "      <td>18.0</td>\n",
       "      <td>89.0</td>\n",
       "    </tr>\n",
       "    <tr>\n",
       "      <th>15</th>\n",
       "      <td>7.0</td>\n",
       "      <td>50.0</td>\n",
       "      <td>18.0</td>\n",
       "      <td>86.0</td>\n",
       "    </tr>\n",
       "    <tr>\n",
       "      <th>16</th>\n",
       "      <td>8.0</td>\n",
       "      <td>50.0</td>\n",
       "      <td>19.0</td>\n",
       "      <td>72.0</td>\n",
       "    </tr>\n",
       "    <tr>\n",
       "      <th>17</th>\n",
       "      <td>8.0</td>\n",
       "      <td>50.0</td>\n",
       "      <td>19.0</td>\n",
       "      <td>79.0</td>\n",
       "    </tr>\n",
       "    <tr>\n",
       "      <th>18</th>\n",
       "      <td>9.0</td>\n",
       "      <td>50.0</td>\n",
       "      <td>20.0</td>\n",
       "      <td>80.0</td>\n",
       "    </tr>\n",
       "    <tr>\n",
       "      <th>19</th>\n",
       "      <td>15.0</td>\n",
       "      <td>56.0</td>\n",
       "      <td>20.0</td>\n",
       "      <td>82.0</td>\n",
       "    </tr>\n",
       "    <tr>\n",
       "      <th>20</th>\n",
       "      <td>15.0</td>\n",
       "      <td>70.0</td>\n",
       "      <td>20.0</td>\n",
       "      <td>91.0</td>\n",
       "    </tr>\n",
       "  </tbody>\n",
       "</table>\n",
       "</div>"
      ],
      "text/plain": [
       "    STACKLOSS  AIRFLOW  WATERTEMP  ACIDCONC\n",
       "0        42.0     80.0       27.0      89.0\n",
       "1        37.0     80.0       27.0      88.0\n",
       "2        37.0     75.0       25.0      90.0\n",
       "3        28.0     62.0       24.0      87.0\n",
       "4        18.0     62.0       22.0      87.0\n",
       "5        18.0     62.0       23.0      87.0\n",
       "6        19.0     62.0       24.0      93.0\n",
       "7        20.0     62.0       24.0      93.0\n",
       "8        15.0     58.0       23.0      87.0\n",
       "9        14.0     58.0       18.0      80.0\n",
       "10       14.0     58.0       18.0      89.0\n",
       "11       13.0     58.0       17.0      88.0\n",
       "12       11.0     58.0       18.0      82.0\n",
       "13       12.0     58.0       19.0      93.0\n",
       "14        8.0     50.0       18.0      89.0\n",
       "15        7.0     50.0       18.0      86.0\n",
       "16        8.0     50.0       19.0      72.0\n",
       "17        8.0     50.0       19.0      79.0\n",
       "18        9.0     50.0       20.0      80.0\n",
       "19       15.0     56.0       20.0      82.0\n",
       "20       15.0     70.0       20.0      91.0"
      ]
     },
     "execution_count": 5,
     "metadata": {},
     "output_type": "execute_result"
    }
   ],
   "source": [
    "# Muutetaan kokonaisluvut liukuluvuiksi myöhempää analyysiä varten.\n",
    "df = df.astype(dtype='float64')\n",
    "df"
   ]
  },
  {
   "cell_type": "code",
   "execution_count": 6,
   "metadata": {},
   "outputs": [
    {
     "data": {
      "text/plain": [
       "array([[<Axes: title={'center': 'STACKLOSS'}>,\n",
       "        <Axes: title={'center': 'AIRFLOW'}>],\n",
       "       [<Axes: title={'center': 'WATERTEMP'}>,\n",
       "        <Axes: title={'center': 'ACIDCONC'}>]], dtype=object)"
      ]
     },
     "execution_count": 6,
     "metadata": {},
     "output_type": "execute_result"
    },
    {
     "data": {
      "image/png": "[encoded data removed]",
      "text/plain": [
       "<Figure size 640x480 with 4 Axes>"
      ]
     },
     "metadata": {},
     "output_type": "display_data"
    }
   ],
   "source": [
    "df.hist(bins=7)"
   ]
  },
  {
   "cell_type": "code",
   "execution_count": 7,
   "metadata": {},
   "outputs": [
    {
     "data": {
      "image/png": "[encoded data removed]",
      "text/plain": [
       "<Figure size 1500x500 with 3 Axes>"
      ]
     },
     "metadata": {},
     "output_type": "display_data"
    }
   ],
   "source": [
    "sns.pairplot(df,\n",
    "             x_vars = ['AIRFLOW', 'WATERTEMP', 'ACIDCONC'],\n",
    "             y_vars = 'STACKLOSS',\n",
    "             height = 5,\n",
    "             kind = 'reg')\n",
    "plt.show()"
   ]
  },
  {
   "cell_type": "code",
   "execution_count": 8,
   "metadata": {},
   "outputs": [
    {
     "name": "stdout",
     "output_type": "stream",
     "text": [
      "           STACKLOSS   AIRFLOW  WATERTEMP  ACIDCONC\n",
      "STACKLOSS   1.000000  0.919663   0.875504  0.399830\n",
      "AIRFLOW     0.919663  1.000000   0.781852  0.500143\n",
      "WATERTEMP   0.875504  0.781852   1.000000  0.390940\n",
      "ACIDCONC    0.399830  0.500143   0.390940  1.000000\n"
     ]
    }
   ],
   "source": [
    "kor = df.corr( )\n",
    "print(kor)"
   ]
  },
  {
   "cell_type": "code",
   "execution_count": 9,
   "metadata": {},
   "outputs": [
    {
     "data": {
      "image/png": "[encoded data removed]",
      "text/plain": [
       "<Figure size 900x700 with 2 Axes>"
      ]
     },
     "metadata": {},
     "output_type": "display_data"
    }
   ],
   "source": [
    "plt.figure(figsize=(9,7))\n",
    "sns.heatmap(kor, vmin=-1, vmax=0, cmap='RdBu', annot=True)\n",
    "plt.show()"
   ]
  },
  {
   "cell_type": "code",
   "execution_count": 10,
   "metadata": {},
   "outputs": [
    {
     "name": "stdout",
     "output_type": "stream",
     "text": [
      "    AIRFLOW  WATERTEMP  ACIDCONC\n",
      "0      80.0       27.0      89.0\n",
      "1      80.0       27.0      88.0\n",
      "2      75.0       25.0      90.0\n",
      "3      62.0       24.0      87.0\n",
      "4      62.0       22.0      87.0\n",
      "5      62.0       23.0      87.0\n",
      "6      62.0       24.0      93.0\n",
      "7      62.0       24.0      93.0\n",
      "8      58.0       23.0      87.0\n",
      "9      58.0       18.0      80.0\n",
      "10     58.0       18.0      89.0\n",
      "11     58.0       17.0      88.0\n",
      "12     58.0       18.0      82.0\n",
      "13     58.0       19.0      93.0\n",
      "14     50.0       18.0      89.0\n",
      "15     50.0       18.0      86.0\n",
      "16     50.0       19.0      72.0\n",
      "17     50.0       19.0      79.0\n",
      "18     50.0       20.0      80.0\n",
      "19     56.0       20.0      82.0\n",
      "20     70.0       20.0      91.0\n",
      "0     42.0\n",
      "1     37.0\n",
      "2     37.0\n",
      "3     28.0\n",
      "4     18.0\n",
      "5     18.0\n",
      "6     19.0\n",
      "7     20.0\n",
      "8     15.0\n",
      "9     14.0\n",
      "10    14.0\n",
      "11    13.0\n",
      "12    11.0\n",
      "13    12.0\n",
      "14     8.0\n",
      "15     7.0\n",
      "16     8.0\n",
      "17     8.0\n",
      "18     9.0\n",
      "19    15.0\n",
      "20    15.0\n",
      "Name: STACKLOSS, dtype: float64\n"
     ]
    }
   ],
   "source": [
    "# valmistellaan datan mallinnusta varten\n",
    "\n",
    "X =df.iloc[:,1:4] # rivit , sarakkeet\n",
    "Y= df.iloc[:, 0]\n",
    "print(X)\n",
    "print(Y)"
   ]
  },
  {
   "cell_type": "code",
   "execution_count": 11,
   "metadata": {},
   "outputs": [
    {
     "name": "stdout",
     "output_type": "stream",
     "text": [
      "coefficients / kolmen eri kulmakertoimet [ 0.7156402   1.29528612 -0.15212252]\n",
      "intercepts / vakiotermi -39.919674420124046\n"
     ]
    }
   ],
   "source": [
    "# mallinnus\n",
    "reg = linear_model.LinearRegression()\n",
    "\n",
    "#sovitetaan arvot malliin\n",
    "reg.fit(X, Y)\n",
    "\n",
    "print(\"coefficients / kolmen eri kulmakertoimet\", reg.coef_)\n",
    "print(\"intercepts / vakiotermi\", reg.intercept_)"
   ]
  },
  {
   "cell_type": "code",
   "execution_count": 12,
   "metadata": {},
   "outputs": [
    {
     "data": {
      "text/plain": [
       "array([38.76536277, 38.91748529, 32.444467  , 22.30222583, 19.71165358,\n",
       "       21.0069397 , 21.38949071, 21.38949071, 18.1443789 , 12.73280592,\n",
       "       11.36370324, 10.22053964, 12.42856088, 12.05049929,  5.63858164,\n",
       "        6.0949492 ,  9.51995059,  8.45509295,  9.59825656, 13.58785272,\n",
       "       22.23771286])"
      ]
     },
     "execution_count": 12,
     "metadata": {},
     "output_type": "execute_result"
    }
   ],
   "source": [
    "# testataan mallin luotettavuutta\n",
    "# niin vähän rivejä ettei kannata jakaa osiin, HUONO KÄYTÄNTÖ\n",
    "# ennusteet tehtäisiin testijoukosta\n",
    "\n",
    "y_pred = reg.predict(X)\n",
    "y_pred \n",
    "\n"
   ]
  },
  {
   "cell_type": "code",
   "execution_count": 13,
   "metadata": {},
   "outputs": [
    {
     "name": "stdout",
     "output_type": "stream",
     "text": [
      "RMSE:  2.9181693674399196\n",
      "R2:  0.9135769044606818\n"
     ]
    }
   ],
   "source": [
    "# testataan mallin hyvyyttä käyttäen RMSE ja R2\n",
    "\n",
    "rmse = root_mean_squared_error(Y, y_pred) # vastemuuttuja ja ennustettu vastemuuttuja\n",
    "r2_score = r2_score(Y, y_pred) # y todelliset arvot ja ennustetut arvot\n",
    "\n",
    "print(\"RMSE: \", rmse) # mikä on hyväksyttävä virhe?\n",
    "print(\"R2: \", r2_score) # yksinään ei kerro mitään, vertaillaan malleja toisiinsa \n",
    "\n",
    "\n"
   ]
  },
  {
   "cell_type": "code",
   "execution_count": 14,
   "metadata": {},
   "outputs": [
    {
     "data": {
      "text/html": [
       "<div>\n",
       "<style scoped>\n",
       "    .dataframe tbody tr th:only-of-type {\n",
       "        vertical-align: middle;\n",
       "    }\n",
       "\n",
       "    .dataframe tbody tr th {\n",
       "        vertical-align: top;\n",
       "    }\n",
       "\n",
       "    .dataframe thead th {\n",
       "        text-align: right;\n",
       "    }\n",
       "</style>\n",
       "<table border=\"1\" class=\"dataframe\">\n",
       "  <thead>\n",
       "    <tr style=\"text-align: right;\">\n",
       "      <th></th>\n",
       "      <th>Y observed</th>\n",
       "      <th>Y predicted</th>\n",
       "      <th>residual</th>\n",
       "    </tr>\n",
       "  </thead>\n",
       "  <tbody>\n",
       "    <tr>\n",
       "      <th>0</th>\n",
       "      <td>42.0</td>\n",
       "      <td>38.765363</td>\n",
       "      <td>3.234637</td>\n",
       "    </tr>\n",
       "    <tr>\n",
       "      <th>1</th>\n",
       "      <td>37.0</td>\n",
       "      <td>38.917485</td>\n",
       "      <td>-1.917485</td>\n",
       "    </tr>\n",
       "    <tr>\n",
       "      <th>2</th>\n",
       "      <td>37.0</td>\n",
       "      <td>32.444467</td>\n",
       "      <td>4.555533</td>\n",
       "    </tr>\n",
       "    <tr>\n",
       "      <th>3</th>\n",
       "      <td>28.0</td>\n",
       "      <td>22.302226</td>\n",
       "      <td>5.697774</td>\n",
       "    </tr>\n",
       "    <tr>\n",
       "      <th>4</th>\n",
       "      <td>18.0</td>\n",
       "      <td>19.711654</td>\n",
       "      <td>-1.711654</td>\n",
       "    </tr>\n",
       "    <tr>\n",
       "      <th>5</th>\n",
       "      <td>18.0</td>\n",
       "      <td>21.006940</td>\n",
       "      <td>-3.006940</td>\n",
       "    </tr>\n",
       "    <tr>\n",
       "      <th>6</th>\n",
       "      <td>19.0</td>\n",
       "      <td>21.389491</td>\n",
       "      <td>-2.389491</td>\n",
       "    </tr>\n",
       "    <tr>\n",
       "      <th>7</th>\n",
       "      <td>20.0</td>\n",
       "      <td>21.389491</td>\n",
       "      <td>-1.389491</td>\n",
       "    </tr>\n",
       "    <tr>\n",
       "      <th>8</th>\n",
       "      <td>15.0</td>\n",
       "      <td>18.144379</td>\n",
       "      <td>-3.144379</td>\n",
       "    </tr>\n",
       "    <tr>\n",
       "      <th>9</th>\n",
       "      <td>14.0</td>\n",
       "      <td>12.732806</td>\n",
       "      <td>1.267194</td>\n",
       "    </tr>\n",
       "    <tr>\n",
       "      <th>10</th>\n",
       "      <td>14.0</td>\n",
       "      <td>11.363703</td>\n",
       "      <td>2.636297</td>\n",
       "    </tr>\n",
       "    <tr>\n",
       "      <th>11</th>\n",
       "      <td>13.0</td>\n",
       "      <td>10.220540</td>\n",
       "      <td>2.779460</td>\n",
       "    </tr>\n",
       "    <tr>\n",
       "      <th>12</th>\n",
       "      <td>11.0</td>\n",
       "      <td>12.428561</td>\n",
       "      <td>-1.428561</td>\n",
       "    </tr>\n",
       "    <tr>\n",
       "      <th>13</th>\n",
       "      <td>12.0</td>\n",
       "      <td>12.050499</td>\n",
       "      <td>-0.050499</td>\n",
       "    </tr>\n",
       "    <tr>\n",
       "      <th>14</th>\n",
       "      <td>8.0</td>\n",
       "      <td>5.638582</td>\n",
       "      <td>2.361418</td>\n",
       "    </tr>\n",
       "    <tr>\n",
       "      <th>15</th>\n",
       "      <td>7.0</td>\n",
       "      <td>6.094949</td>\n",
       "      <td>0.905051</td>\n",
       "    </tr>\n",
       "    <tr>\n",
       "      <th>16</th>\n",
       "      <td>8.0</td>\n",
       "      <td>9.519951</td>\n",
       "      <td>-1.519951</td>\n",
       "    </tr>\n",
       "    <tr>\n",
       "      <th>17</th>\n",
       "      <td>8.0</td>\n",
       "      <td>8.455093</td>\n",
       "      <td>-0.455093</td>\n",
       "    </tr>\n",
       "    <tr>\n",
       "      <th>18</th>\n",
       "      <td>9.0</td>\n",
       "      <td>9.598257</td>\n",
       "      <td>-0.598257</td>\n",
       "    </tr>\n",
       "    <tr>\n",
       "      <th>19</th>\n",
       "      <td>15.0</td>\n",
       "      <td>13.587853</td>\n",
       "      <td>1.412147</td>\n",
       "    </tr>\n",
       "    <tr>\n",
       "      <th>20</th>\n",
       "      <td>15.0</td>\n",
       "      <td>22.237713</td>\n",
       "      <td>-7.237713</td>\n",
       "    </tr>\n",
       "  </tbody>\n",
       "</table>\n",
       "</div>"
      ],
      "text/plain": [
       "    Y observed  Y predicted  residual\n",
       "0         42.0    38.765363  3.234637\n",
       "1         37.0    38.917485 -1.917485\n",
       "2         37.0    32.444467  4.555533\n",
       "3         28.0    22.302226  5.697774\n",
       "4         18.0    19.711654 -1.711654\n",
       "5         18.0    21.006940 -3.006940\n",
       "6         19.0    21.389491 -2.389491\n",
       "7         20.0    21.389491 -1.389491\n",
       "8         15.0    18.144379 -3.144379\n",
       "9         14.0    12.732806  1.267194\n",
       "10        14.0    11.363703  2.636297\n",
       "11        13.0    10.220540  2.779460\n",
       "12        11.0    12.428561 -1.428561\n",
       "13        12.0    12.050499 -0.050499\n",
       "14         8.0     5.638582  2.361418\n",
       "15         7.0     6.094949  0.905051\n",
       "16         8.0     9.519951 -1.519951\n",
       "17         8.0     8.455093 -0.455093\n",
       "18         9.0     9.598257 -0.598257\n",
       "19        15.0    13.587853  1.412147\n",
       "20        15.0    22.237713 -7.237713"
      ]
     },
     "execution_count": 14,
     "metadata": {},
     "output_type": "execute_result"
    }
   ],
   "source": [
    "df2 = pd.concat([Y, pd.Series(y_pred), pd.Series(Y-y_pred)], axis=1)\n",
    "df2.columns = ['Y observed', 'Y predicted', 'residual']\n",
    "df2\n"
   ]
  },
  {
   "cell_type": "code",
   "execution_count": 15,
   "metadata": {},
   "outputs": [
    {
     "data": {
      "text/plain": [
       "<Figure size 640x480 with 0 Axes>"
      ]
     },
     "metadata": {},
     "output_type": "display_data"
    },
    {
     "data": {
      "image/png": "[encoded data removed]",
      "text/plain": [
       "<Figure size 640x480 with 1 Axes>"
      ]
     },
     "metadata": {},
     "output_type": "display_data"
    }
   ],
   "source": [
    "plt.figure()\n",
    "df2.plot.scatter(x='Y observed', y='Y predicted')\n",
    "plt.plot(y_pred, y_pred, color = 'red')\n",
    "plt.show()"
   ]
  },
  {
   "cell_type": "code",
   "execution_count": 16,
   "metadata": {},
   "outputs": [
    {
     "data": {
      "text/plain": [
       "<Figure size 640x480 with 0 Axes>"
      ]
     },
     "metadata": {},
     "output_type": "display_data"
    },
    {
     "data": {
      "image/png": "[encoded data removed]",
      "text/plain": [
       "<Figure size 640x480 with 1 Axes>"
      ]
     },
     "metadata": {},
     "output_type": "display_data"
    }
   ],
   "source": [
    "plt.figure()\n",
    "df2.plot.scatter(x='Y observed', y='residual')\n",
    "plt.plot([0,45], [0,0], color = 'red')\n",
    "plt.show()"
   ]
  },
  {
   "cell_type": "code",
   "execution_count": 17,
   "metadata": {},
   "outputs": [
    {
     "data": {
      "text/html": [
       "<div>\n",
       "<style scoped>\n",
       "    .dataframe tbody tr th:only-of-type {\n",
       "        vertical-align: middle;\n",
       "    }\n",
       "\n",
       "    .dataframe tbody tr th {\n",
       "        vertical-align: top;\n",
       "    }\n",
       "\n",
       "    .dataframe thead th {\n",
       "        text-align: right;\n",
       "    }\n",
       "</style>\n",
       "<table border=\"1\" class=\"dataframe\">\n",
       "  <thead>\n",
       "    <tr style=\"text-align: right;\">\n",
       "      <th></th>\n",
       "      <th>STACKLOSS</th>\n",
       "      <th>AIRFLOW</th>\n",
       "      <th>WATERTEMP</th>\n",
       "      <th>ACIDCONC</th>\n",
       "    </tr>\n",
       "  </thead>\n",
       "  <tbody>\n",
       "    <tr>\n",
       "      <th>0</th>\n",
       "      <td>2.465745</td>\n",
       "      <td>2.187408</td>\n",
       "      <td>1.914273</td>\n",
       "      <td>0.519040</td>\n",
       "    </tr>\n",
       "    <tr>\n",
       "      <th>1</th>\n",
       "      <td>1.962043</td>\n",
       "      <td>2.187408</td>\n",
       "      <td>1.914273</td>\n",
       "      <td>0.327815</td>\n",
       "    </tr>\n",
       "    <tr>\n",
       "      <th>2</th>\n",
       "      <td>1.962043</td>\n",
       "      <td>1.628581</td>\n",
       "      <td>1.265890</td>\n",
       "      <td>0.710266</td>\n",
       "    </tr>\n",
       "    <tr>\n",
       "      <th>3</th>\n",
       "      <td>1.055377</td>\n",
       "      <td>0.175631</td>\n",
       "      <td>0.941699</td>\n",
       "      <td>0.136590</td>\n",
       "    </tr>\n",
       "    <tr>\n",
       "      <th>4</th>\n",
       "      <td>0.047972</td>\n",
       "      <td>0.175631</td>\n",
       "      <td>0.293316</td>\n",
       "      <td>0.136590</td>\n",
       "    </tr>\n",
       "  </tbody>\n",
       "</table>\n",
       "</div>"
      ],
      "text/plain": [
       "   STACKLOSS   AIRFLOW  WATERTEMP  ACIDCONC\n",
       "0   2.465745  2.187408   1.914273  0.519040\n",
       "1   1.962043  2.187408   1.914273  0.327815\n",
       "2   1.962043  1.628581   1.265890  0.710266\n",
       "3   1.055377  0.175631   0.941699  0.136590\n",
       "4   0.047972  0.175631   0.293316  0.136590"
      ]
     },
     "execution_count": 17,
     "metadata": {},
     "output_type": "execute_result"
    }
   ],
   "source": [
    "# standardisointi\n",
    "scaler = StandardScaler()\n",
    "dfscaled = pd.DataFrame(scaler.fit_transform(df), columns = df.columns)\n",
    "dfscaled.head()"
   ]
  },
  {
   "cell_type": "code",
   "execution_count": 18,
   "metadata": {},
   "outputs": [],
   "source": [
    "# mallinnus uudestaan\n",
    "\n",
    "Xscaled = dfscaled.iloc[:, 1:4]\n",
    "Yscaled = dfscaled.iloc[:, 0]"
   ]
  },
  {
   "cell_type": "code",
   "execution_count": 19,
   "metadata": {},
   "outputs": [
    {
     "name": "stdout",
     "output_type": "stream",
     "text": [
      "coefficient / kulmakerroin [ 0.64504766  0.40250249 -0.08014054]\n",
      "intercept / vakiotermi -1.5639539059744083e-16\n"
     ]
    }
   ],
   "source": [
    "reg2 = linear_model.LinearRegression()\n",
    "# sovitetaan\n",
    "reg2.fit(Xscaled, Yscaled)\n",
    "print(\"coefficient / kulmakerroin\", reg2.coef_)\n",
    "print(\"intercept / vakiotermi\", reg2.intercept_)\n",
    "\n",
    "# suurin merkitys on ilman virtausnopeudella AIRFLOW"
   ]
  }
 ],
 "metadata": {
  "kernelspec": {
   "display_name": "env",
   "language": "python",
   "name": "python3"
  },
  "language_info": {
   "codemirror_mode": {
    "name": "ipython",
    "version": 3
   },
   "file_extension": ".py",
   "mimetype": "text/x-python",
   "name": "python",
   "nbconvert_exporter": "python",
   "pygments_lexer": "ipython3",
   "version": "3.12.7"
  }
 },
 "nbformat": 4,
 "nbformat_minor": 2
}
